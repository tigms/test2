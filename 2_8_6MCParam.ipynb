{
 "cells": [
  {
   "cell_type": "markdown",
   "id": "d9e40977-a0a9-4ca9-8d30-78654d8ca825",
   "metadata": {},
   "source": [
    "# 【例題2.8】\n",
    "\n",
    "## (6) 洪水追跡計算\n",
    "### ④Muskingum-Cunge法のパラメータ設定"
   ]
  },
  {
   "cell_type": "code",
   "execution_count": 1,
   "id": "8908fc3f-2998-4065-85d0-5acc11d63a07",
   "metadata": {},
   "outputs": [],
   "source": [
    "'''Muskingum-Cunge法のパラメータ設定'''\n",
    "# !/usr/bin/env python3\n",
    "# -*- coding: utf-8 -*-\n",
    "import matplotlib.pyplot as plt\n",
    "import numpy as np\n",
    "import pandas as pd\n",
    "import scipy.optimize\n",
    "EPS_DEPTH = 1e-15"
   ]
  },
  {
   "cell_type": "markdown",
   "id": "6f034e33-a97a-4f23-af00-48ab71347b8d",
   "metadata": {},
   "source": [
    "#### 流れの諸量を計算するクラス"
   ]
  },
  {
   "cell_type": "code",
   "execution_count": 2,
   "id": "bd547ff8-7b42-47b2-92f7-354410f16c82",
   "metadata": {},
   "outputs": [],
   "source": [
    "class FlowParam:\n",
    "    \"\"\"流れの諸量を計算するクラス\"\"\"\n",
    "    \n",
    "    @staticmethod\n",
    "    def calcA(_h, _B):\n",
    "        \"\"\"流積\"\"\"\n",
    "        return(_h*_B)\n",
    "\n",
    "    @staticmethod\n",
    "    def calc_s(_h, _B):\n",
    "        \"\"\"潤辺\"\"\"\n",
    "        return(_B+2.*_h)    \n",
    "    \n",
    "    @staticmethod\n",
    "    def calcR(_A, _s):\n",
    "        \"\"\"径深\"\"\"\n",
    "        return(_A/_s)\n",
    "        \n",
    "    @staticmethod\n",
    "    def calcQ0(_n, _A, _R, _Ib):\n",
    "        \"\"\"等流時の流量を求める関数\"\"\"\n",
    "        return(1./_n*_A*_R**(2./3.)*_Ib**.5)\n",
    "    \n",
    "    @staticmethod\n",
    "    def __eqUniform(_h, _n, _B, _Ib, _Q):\n",
    "        \"\"\"等流の関係\"\"\"\n",
    "        __A = FlowParam.calcA(_h, _B)\n",
    "        __s = FlowParam.calc_s(_h, _B)\n",
    "        __R = FlowParam.calcR(__A, __s)\n",
    "        return(np.abs(-_Ib+_n**2.*(_Q/__A)**2./__R**(4./3.)))\n",
    "        \n",
    "    @staticmethod\n",
    "    def calch0(_n, _B, _Ib, _Q):\n",
    "        \"\"\"等流水深を求める関数\"\"\"\n",
    "        __h0 = scipy.optimize.fmin(FlowParam.__eqUniform, \n",
    "                                   x0=[(_n*_n*(_Q/_B)**2./_Ib)**(3./10.)], \n",
    "                                   xtol=EPS_DEPTH, \n",
    "                                   disp=False, args=(_n, _B, _Ib, _Q, ))[0]\n",
    "        return(__h0)"
   ]
  },
  {
   "cell_type": "markdown",
   "id": "a142bdf9-4358-4acc-bb2e-3faa2aea4c6d",
   "metadata": {},
   "source": [
    "#### (a) ピーク流量の平均伝播速度$L/T_p$\n",
    "- 伝播速度$\\lambda$の計算"
   ]
  },
  {
   "cell_type": "code",
   "execution_count": 20,
   "id": "3016df4f-3997-440d-bc4f-1fc653dfaf4a",
   "metadata": {},
   "outputs": [
    {
     "name": "stdout",
     "output_type": "stream",
     "text": [
      "等流流速： 2.0663716601923086\n",
      "伝播速度： 3.4439527669871812\n"
     ]
    }
   ],
   "source": [
    "# パラメータの設定\n",
    "Ib= 1./2000.\n",
    "B = 200.\n",
    "n =0.03\n",
    "# ピーク流量\n",
    "Qp = 2000.0\n",
    "# ピーク流量前後の流量\n",
    "Q = np.array([1516.121116, Qp, 1601.393261])\n",
    "# 流量算出地点\n",
    "L = 100000.0\n",
    "# 等流水深\n",
    "h = FlowParam.calch0(n, B, Ib, Qp)\n",
    "# 流速\n",
    "U= Qp/(B*h)\n",
    "print(\"等流流速：\", U)\n",
    "# 伝播速度\n",
    "Lamb = 5./3.* U\n",
    "print(\"伝播速度：\",Lamb)"
   ]
  },
  {
   "cell_type": "markdown",
   "id": "f3989828-e574-4bc2-bb49-86fa38af3b2b",
   "metadata": {},
   "source": [
    "- 平均伝播速度$L/T_p$の設定"
   ]
  },
  {
   "cell_type": "code",
   "execution_count": 21,
   "id": "ec902821-ac0e-4272-85cf-a41991cce10f",
   "metadata": {},
   "outputs": [],
   "source": [
    "# L/Tpを入力\n",
    "L_Tp = 3.5"
   ]
  },
  {
   "cell_type": "markdown",
   "id": "5b458169-b522-459d-a16d-6d783609e0e2",
   "metadata": {},
   "source": [
    "#### (b) 減衰パラメータ$\\alpha_p = \\frac{1}{2}(L/B)(1/I_b)$"
   ]
  },
  {
   "cell_type": "code",
   "execution_count": 22,
   "id": "6ce9879b-f010-4b32-b828-31d3037053af",
   "metadata": {},
   "outputs": [
    {
     "name": "stdout",
     "output_type": "stream",
     "text": [
      "500000.0\n"
     ]
    }
   ],
   "source": [
    "alpha_p = .5*(L/B)*(1./Ib)\n",
    "print(alpha_p)"
   ]
  },
  {
   "cell_type": "markdown",
   "id": "d6a58ed9-3d3f-4aa4-85c3-5150ca8d5dab",
   "metadata": {},
   "source": [
    "#### (c) 流量ピークの曲率 $|\\frac{d^2Q_p}{\\delta t^2}|=|\\frac{Q_{-1}+Q_1-2Q_p}{\\delta t^2}|$\n",
    "\n",
    "- 流量ピークまでの時間$T_p$=15(hr)であるので，$\\delta t$ = 7200(s)とする．($\\delta t$は，$T_p/5$程度)\n",
    "\n",
    "- $\\delta t$の設定"
   ]
  },
  {
   "cell_type": "code",
   "execution_count": 23,
   "id": "86d35b5e-3f95-40ff-a633-baedf2455d85",
   "metadata": {},
   "outputs": [],
   "source": [
    "deltaT = 7200."
   ]
  },
  {
   "cell_type": "code",
   "execution_count": 24,
   "id": "ab9c52cf-271d-4e94-8ac6-f105807b0ad1",
   "metadata": {},
   "outputs": [
    {
     "name": "stdout",
     "output_type": "stream",
     "text": [
      "1.7023256616512348e-05\n"
     ]
    }
   ],
   "source": [
    "def d2Qp_dt2(Q0, Q1, Q2,dT):\n",
    "    return(np.abs((Q0+Q2-2.*Q1)/dT**2.))\n",
    "\n",
    "d2Qp_dt2 = np.abs((Q[0]+Q[2]-2.*Q[1])/dT**2.)\n",
    "print(d2Qp_dt2)"
   ]
  },
  {
   "cell_type": "markdown",
   "id": "1e713b63-caab-49b3-abba-e3b6fd65dddb",
   "metadata": {},
   "source": [
    "#### (d) $x$=0 ~ $L$の間のピーク流量の減衰量$\\Delta Q = \\frac{\\alpha_p}{(L/T_p)^3}Q_p|\\frac{d^2Q_p}{dt^2}|$"
   ]
  },
  {
   "cell_type": "code",
   "execution_count": 25,
   "id": "802f8d70-e76c-400c-8681-c736ed133fa5",
   "metadata": {},
   "outputs": [
    {
     "name": "stdout",
     "output_type": "stream",
     "text": [
      "397.0438860994133\n"
     ]
    }
   ],
   "source": [
    "def calcdQ(alpha_p, L_Tp, Qp, _d2Qp_dt2):\n",
    "    return(alpha_p/(L_Tp)**3.*Qp*_d2Qp_dt2)\n",
    "\n",
    "dQ = calcdQ(alpha_p, L_Tp, Qp, d2Qp_dt2)\n",
    "print(dQ)"
   ]
  },
  {
   "cell_type": "markdown",
   "id": "403c724b-cf13-44bc-8103-faf7c6aadefa",
   "metadata": {},
   "source": [
    "####　(e) $\\Delta Q_{new}$と$\\omega$の計算\n",
    "\n",
    "- $\\Delta Q \\le 0.1 Q_p$の場合：$\\omega = L/T_p$\n",
    "\n",
    "- $\\Delta Q > 0.1 Q_p$の場合：$\\Delta Q_{New} = Q_p\\left\\{1-\\exp\\left(-\\frac{\\Delta Q}{Q_p}\\right)\\right\\}$; $\\omega = \\frac{L}{T_p}-\\frac{2.\\alpha_p}{L^2}\\Delta Q_{New}$"
   ]
  },
  {
   "cell_type": "code",
   "execution_count": 26,
   "id": "70cc7424-3d51-4366-b6b7-562f8b1fb319",
   "metadata": {},
   "outputs": [
    {
     "name": "stdout",
     "output_type": "stream",
     "text": [
      "dQNew, omega =  360.1164429603982 3.46398835570396\n",
      "3.46398835570396\n"
     ]
    }
   ],
   "source": [
    "def calcNewLambda(dQ, Qp, L_Tp, alpha_p, L):\n",
    "    if(dQ <= 0.1*Qp):\n",
    "        __lambda = L_Tp\n",
    "    else:\n",
    "        __dQNew = Qp*(1.-np.exp(-dQ/Qp))\n",
    "        __lambda = L_Tp-2.*alpha_p/L/L*__dQNew\n",
    "    print(\"dQNew, omega = \", __dQNew, __lambda)\n",
    "    return(__lambda)\n",
    "\n",
    "newLambda = calcNewLambda(dQ, Qp, L_Tp, alpha_p, L)\n",
    "print(newLambda)"
   ]
  },
  {
   "cell_type": "markdown",
   "id": "9d251b39-94a6-4a8d-a486-066392ad5346",
   "metadata": {},
   "source": [
    "#### (f) $\\omega$と$\\Delta Q_{new}$の収束計算"
   ]
  },
  {
   "cell_type": "code",
   "execution_count": 27,
   "id": "948da90b-0595-418b-a20a-bceb6f748aea",
   "metadata": {},
   "outputs": [
    {
     "name": "stdout",
     "output_type": "stream",
     "text": [
      "dQNew, omega =  370.3436872843049 3.4629656312715693\n",
      "dQNew, omega =  370.6394203966252 3.4629360579603374\n",
      "dQNew, omega =  370.64797627526593 3.4629352023724733\n",
      "dQNew, omega =  370.6482238097657 3.4629351776190234\n",
      "dQNew, omega =  370.6482309713159 3.4629351769028682\n",
      "dQNew, omega =  370.6482311785106 3.462935176882149\n",
      "dQNew, omega =  370.64823118450494 3.4629351768815493\n",
      "dQNew, omega =  370.64823118467837 3.462935176881532\n",
      "dQNew, omega =  370.64823118468325 3.4629351768815315\n",
      "3.4629351768815315\n"
     ]
    }
   ],
   "source": [
    "while(1):\n",
    "    _tmpL = newLambda\n",
    "    dQNew = calcdQ(alpha_p, newLambda, Qp, d2Qp_dt2)\n",
    "    newLambda = calcNewLambda(dQNew, Qp, L_Tp, alpha_p, L)\n",
    "    if(np.abs(_tmpL-newLambda)< EPS_DEPTH):\n",
    "        break\n",
    "print(newLambda)"
   ]
  },
  {
   "cell_type": "markdown",
   "id": "b0766e26-d8bb-4f91-b817-3f94ddf77339",
   "metadata": {},
   "source": [
    "#### (g) 平均ピーク流量 $\\bar{Q_p}$の推定：$\\bar{Q_p} = Q_p-\\frac{1}{2}\\Delta Q_{New}$"
   ]
  },
  {
   "cell_type": "code",
   "execution_count": 28,
   "id": "8c12e7a8-9783-46f7-8ed7-26396f2b65f7",
   "metadata": {},
   "outputs": [
    {
     "name": "stdout",
     "output_type": "stream",
     "text": [
      "1795.0350673165794\n"
     ]
    }
   ],
   "source": [
    "barQp = Qp-.5*dQNew\n",
    "print(barQp)"
   ]
  },
  {
   "cell_type": "markdown",
   "id": "94a65469-2776-42ed-aa26-f6d2d4bd32f3",
   "metadata": {},
   "source": [
    "#### (h) 係数$\\mu$の推定：$\\mu = \\alpha_p\\bar{Q_p}/L$"
   ]
  },
  {
   "cell_type": "code",
   "execution_count": 34,
   "id": "c70b4fad-ca78-425c-92b4-f0b99aaed0e3",
   "metadata": {},
   "outputs": [
    {
     "name": "stdout",
     "output_type": "stream",
     "text": [
      "8975.175336582897\n"
     ]
    }
   ],
   "source": [
    "mu = alpha_p*barQp/L\n",
    "print(mu)"
   ]
  },
  {
   "cell_type": "markdown",
   "id": "852ed097-58b1-4bcd-b327-7eaf7d11c8e6",
   "metadata": {},
   "source": [
    "#### (i) KとXの推定\n",
    "- $K = \\frac{\\Delta x}{\\omega}$\n",
    "- $X= 0.5-\\mu/(\\omega \\cdot dx)$\n"
   ]
  },
  {
   "cell_type": "code",
   "execution_count": 35,
   "id": "62b12ac1-5372-4b53-a346-167a4039ae00",
   "metadata": {},
   "outputs": [
    {
     "name": "stdout",
     "output_type": "stream",
     "text": [
      "2887.7237052428095 0.24082173421838954\n"
     ]
    }
   ],
   "source": [
    "dx =10000.0\n",
    "K = dx/newLambda\n",
    "X= .5-mu/(newLambda*dx)\n",
    "print(K, X)"
   ]
  },
  {
   "cell_type": "markdown",
   "id": "45e395c7-ec9e-4265-bb9c-f727d97a3049",
   "metadata": {},
   "source": [
    "####  (j) dTのチェック\n",
    "\n",
    "- 水理公式集(昭和60年版　p.216 図4.5)から$X$に対する$\\frac{\\Delta x}{\\omega dt}=a$を読み取る．\n",
    "- $\\Delta t > \\Delta x /(a\\omega)$を満たすように$\\Delta t$を設定"
   ]
  },
  {
   "cell_type": "code",
   "execution_count": 31,
   "id": "7240c895-db1c-4501-a339-63f45b66c086",
   "metadata": {},
   "outputs": [],
   "source": [
    "# Xに対する値 水理公式集(昭和60年版　p.216 図4.5)\n",
    "dx_wdt = 0.80"
   ]
  },
  {
   "cell_type": "code",
   "execution_count": 36,
   "id": "093aff31-71a8-4e5a-aae6-029a863f53e0",
   "metadata": {},
   "outputs": [
    {
     "name": "stdout",
     "output_type": "stream",
     "text": [
      "3609.6546315535115\n"
     ]
    }
   ],
   "source": [
    "#  dTのチェック\n",
    "__dT = dx/(dx_wdt*newLambda)\n",
    "print(__dT)"
   ]
  },
  {
   "cell_type": "markdown",
   "id": "8c81f8c6-b9fc-4514-b012-16180565ec90",
   "metadata": {},
   "source": [
    "#### dTの設定"
   ]
  },
  {
   "cell_type": "code",
   "execution_count": 37,
   "id": "169c5024-2499-4611-b986-23aa4434d0b0",
   "metadata": {},
   "outputs": [
    {
     "name": "stdout",
     "output_type": "stream",
     "text": [
      "OK 3609.6546315535115 7200.0\n"
     ]
    }
   ],
   "source": [
    "dT = 7200.\n",
    "if(__dT > dT):\n",
    "    print(\"Check dT\")\n",
    "else:\n",
    "    print(\"OK\", __dT, dT)"
   ]
  },
  {
   "cell_type": "code",
   "execution_count": null,
   "id": "422c0883-2487-4334-85f0-4f7942f4c350",
   "metadata": {},
   "outputs": [],
   "source": []
  }
 ],
 "metadata": {
  "kernelspec": {
   "display_name": "Python 3 (ipykernel)",
   "language": "python",
   "name": "python3"
  },
  "language_info": {
   "codemirror_mode": {
    "name": "ipython",
    "version": 3
   },
   "file_extension": ".py",
   "mimetype": "text/x-python",
   "name": "python",
   "nbconvert_exporter": "python",
   "pygments_lexer": "ipython3",
   "version": "3.9.10"
  }
 },
 "nbformat": 4,
 "nbformat_minor": 5
}
